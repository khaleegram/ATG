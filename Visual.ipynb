{
 "cells": [
  {
   "cell_type": "code",
   "execution_count": null,
   "metadata": {},
   "outputs": [],
   "source": [
    "import tkinter as tk\n",
    "from tkinter import ttk\n",
    "import json\n",
    "\n",
    "def display_timetable_gui():\n",
    "    with open(\"timetable5.json\", \"r\") as file:\n",
    "        timetable = json.load(file)\n",
    "\n",
    "    root = tk.Tk()\n",
    "    root.title(\"Exam Timetable\")\n",
    "\n",
    "    columns = [\"Date\", \"Day\", \"Time\", \"Course\", \"Programs\"]\n",
    "    tree = ttk.Treeview(root, columns=columns, show=\"headings\")\n",
    "\n",
    "    for col in columns:\n",
    "        tree.heading(col, text=col)\n",
    "        tree.column(col, width=150, anchor=tk.CENTER)\n",
    "\n",
    "    for date, exams in timetable.items():\n",
    "        for exam in exams:\n",
    "            tree.insert(\"\", \"end\", values=(\n",
    "                date,\n",
    "                exam[\"day\"],\n",
    "                exam[\"time\"],\n",
    "                exam[\"course\"][\"name\"],\n",
    "                \", \".join(exam[\"programs\"])\n",
    "            ))\n",
    "\n",
    "    tree.pack(expand=True, fill=\"both\")\n",
    "    root.mainloop()\n",
    "\n",
    "# Display the timetable\n",
    "display_timetable_gui()\n"
   ]
  },
  {
   "cell_type": "code",
   "execution_count": 3,
   "metadata": {},
   "outputs": [
    {
     "name": "stdout",
     "output_type": "stream",
     "text": [
      "+------------+---------+---------------+---------------------------+-----------------+\n",
      "| Date       | Day     | Time          | Course                    | Programs        |\n",
      "+============+=========+===============+===========================+=================+\n",
      "| 2024-01-08 | Monday  | 08:00 - 10:00 | Introduction to Economics | ECON            |\n",
      "+------------+---------+---------------+---------------------------+-----------------+\n",
      "| 2024-01-08 | Monday  | 08:00 - 10:00 | Financial Accounting      | ACCT            |\n",
      "+------------+---------+---------------+---------------------------+-----------------+\n",
      "| 2024-01-09 | Tuesday | 08:00 - 10:00 | Use of English (CBT)      | ECON, ACCT, BIO |\n",
      "+------------+---------+---------------+---------------------------+-----------------+\n"
     ]
    }
   ],
   "source": [
    "from tabulate import tabulate\n",
    "import json\n",
    "\n",
    "def display_timetable():\n",
    "    with open(\"timetable5.json\", \"r\") as file:\n",
    "        timetable = json.load(file)\n",
    "\n",
    "    table = []\n",
    "    for date, exams in timetable.items():\n",
    "        for exam in exams:\n",
    "            table.append([\n",
    "                date,\n",
    "                exam[\"day\"],\n",
    "                exam[\"time\"],\n",
    "                exam[\"course\"][\"name\"],\n",
    "                \", \".join(exam[\"programs\"])\n",
    "            ])\n",
    "\n",
    "    headers = [\"Date\", \"Day\", \"Time\", \"Course\", \"Programs\"]\n",
    "    print(tabulate(table, headers=headers, tablefmt=\"grid\"))\n",
    "\n",
    "# Display the timetable\n",
    "display_timetable()\n"
   ]
  }
 ],
 "metadata": {
  "kernelspec": {
   "display_name": "Python 3",
   "language": "python",
   "name": "python3"
  },
  "language_info": {
   "codemirror_mode": {
    "name": "ipython",
    "version": 3
   },
   "file_extension": ".py",
   "mimetype": "text/x-python",
   "name": "python",
   "nbconvert_exporter": "python",
   "pygments_lexer": "ipython3",
   "version": "3.12.4"
  }
 },
 "nbformat": 4,
 "nbformat_minor": 2
}
