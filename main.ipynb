{
 "cells": [
  {
   "cell_type": "code",
   "execution_count": 1,
   "metadata": {},
   "outputs": [],
   "source": [
    "from csp_module import csp_schedule\n",
    "from ml_module import train_ml_model\n",
    "from ga_module import ga_schedule\n"
   ]
  },
  {
   "cell_type": "markdown",
   "metadata": {},
   "source": [
    "# Define your data\n"
   ]
  },
  {
   "cell_type": "code",
   "execution_count": 2,
   "metadata": {},
   "outputs": [],
   "source": [
    "venues = [\n",
    "    {\"id\": 1, \"name\": \"Auditorium\", \"capacity\": 300},\n",
    "    {\"id\": 2, \"name\": \"Lecture Hall A\", \"capacity\": 100},\n",
    "]\n",
    "time_slots = [\"Monday 08:00-10:00\", \"Monday 10:00-12:00\"]\n",
    "courses = [\n",
    "    {\"id\": 1, \"name\": \"Math 101\", \"students\": 80},\n",
    "    {\"id\": 2, \"name\": \"Physics 101\", \"students\": 50},\n",
    "]"
   ]
  },
  {
   "cell_type": "markdown",
   "metadata": {},
   "source": [
    " CONSTRAINT SATISFACTION PROBLEM"
   ]
  },
  {
   "cell_type": "code",
   "execution_count": 4,
   "metadata": {},
   "outputs": [
    {
     "name": "stdout",
     "output_type": "stream",
     "text": [
      "CSP Generated Solutions:\n",
      "{'Math 101': ('Lecture Hall A', 'Monday 10:00-12:00'), 'Physics 101': ('Lecture Hall A', 'Monday 08:00-10:00')}\n",
      "{'Math 101': ('Lecture Hall A', 'Monday 10:00-12:00'), 'Physics 101': ('Auditorium', 'Monday 10:00-12:00')}\n",
      "{'Math 101': ('Lecture Hall A', 'Monday 10:00-12:00'), 'Physics 101': ('Auditorium', 'Monday 08:00-10:00')}\n",
      "{'Math 101': ('Lecture Hall A', 'Monday 08:00-10:00'), 'Physics 101': ('Lecture Hall A', 'Monday 10:00-12:00')}\n",
      "{'Math 101': ('Lecture Hall A', 'Monday 08:00-10:00'), 'Physics 101': ('Auditorium', 'Monday 10:00-12:00')}\n",
      "{'Math 101': ('Lecture Hall A', 'Monday 08:00-10:00'), 'Physics 101': ('Auditorium', 'Monday 08:00-10:00')}\n",
      "{'Math 101': ('Auditorium', 'Monday 10:00-12:00'), 'Physics 101': ('Lecture Hall A', 'Monday 08:00-10:00')}\n",
      "{'Math 101': ('Auditorium', 'Monday 10:00-12:00'), 'Physics 101': ('Lecture Hall A', 'Monday 10:00-12:00')}\n",
      "{'Math 101': ('Auditorium', 'Monday 10:00-12:00'), 'Physics 101': ('Auditorium', 'Monday 08:00-10:00')}\n",
      "{'Math 101': ('Auditorium', 'Monday 08:00-10:00'), 'Physics 101': ('Auditorium', 'Monday 10:00-12:00')}\n",
      "{'Math 101': ('Auditorium', 'Monday 08:00-10:00'), 'Physics 101': ('Lecture Hall A', 'Monday 08:00-10:00')}\n",
      "{'Math 101': ('Auditorium', 'Monday 08:00-10:00'), 'Physics 101': ('Lecture Hall A', 'Monday 10:00-12:00')}\n"
     ]
    }
   ],
   "source": [
    "csp_solutions = csp_schedule(venues, time_slots, courses)\n",
    "# Print CSP solutions\n",
    "\n",
    "if csp_solutions:\n",
    "    print(\"CSP Generated Solutions:\")\n",
    "    for solution in csp_solutions:\n",
    "        print(solution)\n",
    "else:\n",
    "    print(\"No solution found!\")"
   ]
  },
  {
   "cell_type": "markdown",
   "metadata": {},
   "source": [
    "Machine Learning"
   ]
  },
  {
   "cell_type": "code",
   "execution_count": 5,
   "metadata": {},
   "outputs": [
    {
     "name": "stdout",
     "output_type": "stream",
     "text": [
      "Popularity for Math 101 in Auditorium: 0.879\n",
      "Popularity for Math 101 in Lecture Hall A: 0.8374999999999991\n",
      "Popularity for Physics 101 in Auditorium: 0.8910000000000003\n",
      "Popularity for Physics 101 in Lecture Hall A: 0.8494999999999995\n"
     ]
    }
   ],
   "source": [
    "ml_model = train_ml_model()\n",
    "for course in courses:\n",
    "    for venue in venues:\n",
    "        features = [[course[\"students\"], venue[\"capacity\"]]]\n",
    "        popularity = ml_model.predict(features)\n",
    "        print(f\"Popularity for {course['name']} in {venue['name']}: {popularity[0]}\")\n"
   ]
  },
  {
   "cell_type": "markdown",
   "metadata": {},
   "source": [
    "GENETIC ALGORITHM"
   ]
  },
  {
   "cell_type": "code",
   "execution_count": 7,
   "metadata": {},
   "outputs": [
    {
     "name": "stdout",
     "output_type": "stream",
     "text": [
      "gen\tnevals\n",
      "0  \t50    \n",
      "1  \t36    \n",
      "2  \t33    \n",
      "3  \t31    \n",
      "4  \t36    \n",
      "5  \t38    \n",
      "6  \t43    \n",
      "7  \t39    \n",
      "8  \t40    \n",
      "9  \t32    \n",
      "10 \t38    \n",
      "11 \t41    \n",
      "12 \t36    \n",
      "13 \t33    \n",
      "14 \t35    \n",
      "15 \t36    \n",
      "16 \t35    \n",
      "17 \t42    \n",
      "18 \t37    \n",
      "19 \t35    \n",
      "20 \t40    \n",
      "21 \t35    \n",
      "22 \t29    \n",
      "23 \t45    \n",
      "24 \t32    \n",
      "25 \t42    \n",
      "26 \t37    \n",
      "27 \t43    \n",
      "28 \t35    \n",
      "29 \t39    \n",
      "30 \t37    \n",
      "31 \t35    \n",
      "32 \t37    \n",
      "33 \t32    \n",
      "34 \t39    \n",
      "35 \t41    \n",
      "36 \t34    \n",
      "37 \t41    \n",
      "38 \t40    \n",
      "39 \t42    \n",
      "40 \t43    \n",
      "41 \t31    \n",
      "42 \t30    \n",
      "43 \t27    \n",
      "44 \t36    \n",
      "45 \t39    \n",
      "46 \t34    \n",
      "47 \t36    \n",
      "48 \t44    \n",
      "49 \t39    \n",
      "50 \t38    \n",
      "51 \t33    \n",
      "52 \t40    \n",
      "53 \t36    \n",
      "54 \t34    \n",
      "55 \t32    \n",
      "56 \t41    \n",
      "57 \t34    \n",
      "58 \t43    \n",
      "59 \t42    \n",
      "60 \t39    \n",
      "61 \t38    \n",
      "62 \t38    \n",
      "63 \t36    \n",
      "64 \t39    \n",
      "65 \t43    \n",
      "66 \t43    \n",
      "67 \t41    \n",
      "68 \t36    \n",
      "69 \t40    \n",
      "70 \t36    \n",
      "71 \t42    \n",
      "72 \t42    \n",
      "73 \t40    \n",
      "74 \t38    \n",
      "75 \t35    \n",
      "76 \t38    \n",
      "77 \t39    \n",
      "78 \t46    \n",
      "79 \t36    \n",
      "80 \t39    \n",
      "81 \t32    \n",
      "82 \t44    \n",
      "83 \t40    \n",
      "84 \t37    \n",
      "85 \t26    \n",
      "86 \t46    \n",
      "87 \t26    \n",
      "88 \t37    \n",
      "89 \t37    \n",
      "90 \t34    \n",
      "91 \t45    \n",
      "92 \t37    \n",
      "93 \t43    \n",
      "94 \t36    \n",
      "95 \t37    \n",
      "96 \t38    \n",
      "97 \t38    \n",
      "98 \t40    \n",
      "99 \t39    \n",
      "100\t38    \n"
     ]
    }
   ],
   "source": [
    "ga_population = ga_schedule(courses, venues, time_slots)"
   ]
  },
  {
   "cell_type": "markdown",
   "metadata": {},
   "source": [
    "# Display final population\n"
   ]
  },
  {
   "cell_type": "code",
   "execution_count": 8,
   "metadata": {},
   "outputs": [
    {
     "name": "stdout",
     "output_type": "stream",
     "text": [
      "Final GA Population:\n",
      "[('Monday 08:00-10:00', {'id': 1, 'name': 'Auditorium', 'capacity': 300}), ('Monday 10:00-12:00', {'id': 2, 'name': 'Lecture Hall A', 'capacity': 100})]\n",
      "[('Monday 08:00-10:00', {'id': 1, 'name': 'Auditorium', 'capacity': 300}), ('Monday 10:00-12:00', {'id': 2, 'name': 'Lecture Hall A', 'capacity': 100})]\n",
      "[('Monday 08:00-10:00', {'id': 2, 'name': 'Lecture Hall A', 'capacity': 100}), ('Monday 08:00-10:00', {'id': 1, 'name': 'Auditorium', 'capacity': 300})]\n",
      "[('Monday 08:00-10:00', {'id': 1, 'name': 'Auditorium', 'capacity': 300}), ('Monday 10:00-12:00', {'id': 2, 'name': 'Lecture Hall A', 'capacity': 100})]\n",
      "[('Monday 08:00-10:00', {'id': 1, 'name': 'Auditorium', 'capacity': 300}), ('Monday 10:00-12:00', {'id': 2, 'name': 'Lecture Hall A', 'capacity': 100})]\n",
      "[('Monday 08:00-10:00', {'id': 1, 'name': 'Auditorium', 'capacity': 300}), ('Monday 08:00-10:00', {'id': 1, 'name': 'Auditorium', 'capacity': 300})]\n",
      "[('Monday 08:00-10:00', {'id': 1, 'name': 'Auditorium', 'capacity': 300}), ('Monday 10:00-12:00', {'id': 2, 'name': 'Lecture Hall A', 'capacity': 100})]\n",
      "[('Monday 08:00-10:00', {'id': 2, 'name': 'Lecture Hall A', 'capacity': 100}), ('Monday 10:00-12:00', {'id': 2, 'name': 'Lecture Hall A', 'capacity': 100})]\n",
      "[('Monday 08:00-10:00', {'id': 1, 'name': 'Auditorium', 'capacity': 300}), ('Monday 10:00-12:00', {'id': 2, 'name': 'Lecture Hall A', 'capacity': 100})]\n",
      "[('Monday 08:00-10:00', {'id': 2, 'name': 'Lecture Hall A', 'capacity': 100}), ('Monday 10:00-12:00', {'id': 2, 'name': 'Lecture Hall A', 'capacity': 100})]\n",
      "[('Monday 08:00-10:00', {'id': 2, 'name': 'Lecture Hall A', 'capacity': 100}), ('Monday 08:00-10:00', {'id': 1, 'name': 'Auditorium', 'capacity': 300})]\n",
      "[('Monday 08:00-10:00', {'id': 1, 'name': 'Auditorium', 'capacity': 300}), ('Monday 10:00-12:00', {'id': 2, 'name': 'Lecture Hall A', 'capacity': 100})]\n",
      "[('Monday 08:00-10:00', {'id': 1, 'name': 'Auditorium', 'capacity': 300}), ('Monday 10:00-12:00', {'id': 2, 'name': 'Lecture Hall A', 'capacity': 100})]\n",
      "[('Monday 08:00-10:00', {'id': 1, 'name': 'Auditorium', 'capacity': 300}), ('Monday 10:00-12:00', {'id': 2, 'name': 'Lecture Hall A', 'capacity': 100})]\n",
      "[('Monday 08:00-10:00', {'id': 2, 'name': 'Lecture Hall A', 'capacity': 100}), ('Monday 10:00-12:00', {'id': 1, 'name': 'Auditorium', 'capacity': 300})]\n",
      "[('Monday 08:00-10:00', {'id': 1, 'name': 'Auditorium', 'capacity': 300}), ('Monday 08:00-10:00', {'id': 1, 'name': 'Auditorium', 'capacity': 300})]\n",
      "[('Monday 08:00-10:00', {'id': 1, 'name': 'Auditorium', 'capacity': 300}), ('Monday 08:00-10:00', {'id': 1, 'name': 'Auditorium', 'capacity': 300})]\n",
      "[('Monday 08:00-10:00', {'id': 1, 'name': 'Auditorium', 'capacity': 300}), ('Monday 08:00-10:00', {'id': 2, 'name': 'Lecture Hall A', 'capacity': 100})]\n",
      "[('Monday 08:00-10:00', {'id': 2, 'name': 'Lecture Hall A', 'capacity': 100}), ('Monday 08:00-10:00', {'id': 2, 'name': 'Lecture Hall A', 'capacity': 100})]\n",
      "[('Monday 08:00-10:00', {'id': 1, 'name': 'Auditorium', 'capacity': 300}), ('Monday 08:00-10:00', {'id': 1, 'name': 'Auditorium', 'capacity': 300})]\n",
      "[('Monday 08:00-10:00', {'id': 2, 'name': 'Lecture Hall A', 'capacity': 100}), ('Monday 10:00-12:00', {'id': 1, 'name': 'Auditorium', 'capacity': 300})]\n",
      "[('Monday 08:00-10:00', {'id': 1, 'name': 'Auditorium', 'capacity': 300}), ('Monday 10:00-12:00', {'id': 2, 'name': 'Lecture Hall A', 'capacity': 100})]\n",
      "[('Monday 08:00-10:00', {'id': 1, 'name': 'Auditorium', 'capacity': 300}), ('Monday 10:00-12:00', {'id': 2, 'name': 'Lecture Hall A', 'capacity': 100})]\n",
      "[('Monday 08:00-10:00', {'id': 2, 'name': 'Lecture Hall A', 'capacity': 100}), ('Monday 10:00-12:00', {'id': 2, 'name': 'Lecture Hall A', 'capacity': 100})]\n",
      "[('Monday 08:00-10:00', {'id': 2, 'name': 'Lecture Hall A', 'capacity': 100}), ('Monday 10:00-12:00', {'id': 2, 'name': 'Lecture Hall A', 'capacity': 100})]\n",
      "[('Monday 08:00-10:00', {'id': 1, 'name': 'Auditorium', 'capacity': 300}), ('Monday 10:00-12:00', {'id': 1, 'name': 'Auditorium', 'capacity': 300})]\n",
      "[('Monday 08:00-10:00', {'id': 2, 'name': 'Lecture Hall A', 'capacity': 100}), ('Monday 08:00-10:00', {'id': 1, 'name': 'Auditorium', 'capacity': 300})]\n",
      "[('Monday 08:00-10:00', {'id': 1, 'name': 'Auditorium', 'capacity': 300}), ('Monday 08:00-10:00', {'id': 1, 'name': 'Auditorium', 'capacity': 300})]\n",
      "[('Monday 08:00-10:00', {'id': 1, 'name': 'Auditorium', 'capacity': 300}), ('Monday 08:00-10:00', {'id': 1, 'name': 'Auditorium', 'capacity': 300})]\n",
      "[('Monday 08:00-10:00', {'id': 1, 'name': 'Auditorium', 'capacity': 300}), ('Monday 10:00-12:00', {'id': 1, 'name': 'Auditorium', 'capacity': 300})]\n",
      "[('Monday 08:00-10:00', {'id': 2, 'name': 'Lecture Hall A', 'capacity': 100}), ('Monday 10:00-12:00', {'id': 2, 'name': 'Lecture Hall A', 'capacity': 100})]\n",
      "[('Monday 08:00-10:00', {'id': 1, 'name': 'Auditorium', 'capacity': 300}), ('Monday 10:00-12:00', {'id': 2, 'name': 'Lecture Hall A', 'capacity': 100})]\n",
      "[('Monday 08:00-10:00', {'id': 2, 'name': 'Lecture Hall A', 'capacity': 100}), ('Monday 08:00-10:00', {'id': 1, 'name': 'Auditorium', 'capacity': 300})]\n",
      "[('Monday 08:00-10:00', {'id': 1, 'name': 'Auditorium', 'capacity': 300}), ('Monday 10:00-12:00', {'id': 2, 'name': 'Lecture Hall A', 'capacity': 100})]\n",
      "[('Monday 08:00-10:00', {'id': 1, 'name': 'Auditorium', 'capacity': 300}), ('Monday 10:00-12:00', {'id': 2, 'name': 'Lecture Hall A', 'capacity': 100})]\n",
      "[('Monday 08:00-10:00', {'id': 1, 'name': 'Auditorium', 'capacity': 300}), ('Monday 10:00-12:00', {'id': 2, 'name': 'Lecture Hall A', 'capacity': 100})]\n",
      "[('Monday 08:00-10:00', {'id': 1, 'name': 'Auditorium', 'capacity': 300}), ('Monday 10:00-12:00', {'id': 2, 'name': 'Lecture Hall A', 'capacity': 100})]\n",
      "[('Monday 08:00-10:00', {'id': 1, 'name': 'Auditorium', 'capacity': 300}), ('Monday 10:00-12:00', {'id': 2, 'name': 'Lecture Hall A', 'capacity': 100})]\n",
      "[('Monday 08:00-10:00', {'id': 2, 'name': 'Lecture Hall A', 'capacity': 100}), ('Monday 08:00-10:00', {'id': 1, 'name': 'Auditorium', 'capacity': 300})]\n",
      "[('Monday 08:00-10:00', {'id': 2, 'name': 'Lecture Hall A', 'capacity': 100}), ('Monday 10:00-12:00', {'id': 2, 'name': 'Lecture Hall A', 'capacity': 100})]\n",
      "[('Monday 08:00-10:00', {'id': 1, 'name': 'Auditorium', 'capacity': 300}), ('Monday 10:00-12:00', {'id': 2, 'name': 'Lecture Hall A', 'capacity': 100})]\n",
      "[('Monday 08:00-10:00', {'id': 2, 'name': 'Lecture Hall A', 'capacity': 100}), ('Monday 08:00-10:00', {'id': 1, 'name': 'Auditorium', 'capacity': 300})]\n",
      "[('Monday 08:00-10:00', {'id': 2, 'name': 'Lecture Hall A', 'capacity': 100}), ('Monday 10:00-12:00', {'id': 2, 'name': 'Lecture Hall A', 'capacity': 100})]\n",
      "[('Monday 08:00-10:00', {'id': 2, 'name': 'Lecture Hall A', 'capacity': 100}), ('Monday 10:00-12:00', {'id': 1, 'name': 'Auditorium', 'capacity': 300})]\n",
      "[('Monday 08:00-10:00', {'id': 2, 'name': 'Lecture Hall A', 'capacity': 100}), ('Monday 10:00-12:00', {'id': 2, 'name': 'Lecture Hall A', 'capacity': 100})]\n",
      "[('Monday 08:00-10:00', {'id': 2, 'name': 'Lecture Hall A', 'capacity': 100}), ('Monday 08:00-10:00', {'id': 1, 'name': 'Auditorium', 'capacity': 300})]\n",
      "[('Monday 08:00-10:00', {'id': 2, 'name': 'Lecture Hall A', 'capacity': 100}), ('Monday 10:00-12:00', {'id': 2, 'name': 'Lecture Hall A', 'capacity': 100})]\n",
      "[('Monday 08:00-10:00', {'id': 1, 'name': 'Auditorium', 'capacity': 300}), ('Monday 08:00-10:00', {'id': 1, 'name': 'Auditorium', 'capacity': 300})]\n",
      "[('Monday 08:00-10:00', {'id': 1, 'name': 'Auditorium', 'capacity': 300}), ('Monday 10:00-12:00', {'id': 2, 'name': 'Lecture Hall A', 'capacity': 100})]\n",
      "[('Monday 08:00-10:00', {'id': 2, 'name': 'Lecture Hall A', 'capacity': 100}), ('Monday 10:00-12:00', {'id': 2, 'name': 'Lecture Hall A', 'capacity': 100})]\n"
     ]
    },
    {
     "ename": "",
     "evalue": "",
     "output_type": "error",
     "traceback": [
      "\u001b[1;31mThe Kernel crashed while executing code in the current cell or a previous cell. \n",
      "\u001b[1;31mPlease review the code in the cell(s) to identify a possible cause of the failure. \n",
      "\u001b[1;31mClick <a href='https://aka.ms/vscodeJupyterKernelCrash'>here</a> for more info. \n",
      "\u001b[1;31mView Jupyter <a href='command:jupyter.viewOutput'>log</a> for further details."
     ]
    }
   ],
   "source": [
    "print(\"Final GA Population:\")\n",
    "for individual in ga_population:\n",
    "    print(individual)"
   ]
  }
 ],
 "metadata": {
  "kernelspec": {
   "display_name": "Python 3",
   "language": "python",
   "name": "python3"
  },
  "language_info": {
   "codemirror_mode": {
    "name": "ipython",
    "version": 3
   },
   "file_extension": ".py",
   "mimetype": "text/x-python",
   "name": "python",
   "nbconvert_exporter": "python",
   "pygments_lexer": "ipython3",
   "version": "3.12.4"
  }
 },
 "nbformat": 4,
 "nbformat_minor": 2
}
