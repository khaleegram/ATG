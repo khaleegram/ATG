{
 "cells": [
  {
   "cell_type": "code",
   "execution_count": null,
   "metadata": {},
   "outputs": [
    {
     "ename": "ModuleNotFoundError",
     "evalue": "No module named 'constraint'",
     "output_type": "error",
     "traceback": [
      "\u001b[1;31m---------------------------------------------------------------------------\u001b[0m",
      "\u001b[1;31mModuleNotFoundError\u001b[0m                       Traceback (most recent call last)",
      "Cell \u001b[1;32mIn[7], line 1\u001b[0m\n\u001b[1;32m----> 1\u001b[0m \u001b[38;5;28;01mfrom\u001b[39;00m \u001b[38;5;21;01mcsp_module\u001b[39;00m \u001b[38;5;28;01mimport\u001b[39;00m csp_schedule\n\u001b[0;32m      2\u001b[0m \u001b[38;5;28;01mfrom\u001b[39;00m \u001b[38;5;21;01mml_module\u001b[39;00m \u001b[38;5;28;01mimport\u001b[39;00m train_ml_model\n\u001b[0;32m      3\u001b[0m \u001b[38;5;28;01mfrom\u001b[39;00m \u001b[38;5;21;01mga_module\u001b[39;00m \u001b[38;5;28;01mimport\u001b[39;00m ga_schedule\n",
      "File \u001b[1;32mc:\\Users\\still\\OneDrive\\Desktop\\AUK AI TIMETABLE GENERATOR\\csp_module.py:1\u001b[0m\n\u001b[1;32m----> 1\u001b[0m \u001b[38;5;28;01mfrom\u001b[39;00m \u001b[38;5;21;01mconstraint\u001b[39;00m \u001b[38;5;28;01mimport\u001b[39;00m Problem\n\u001b[0;32m      3\u001b[0m \u001b[38;5;28;01mdef\u001b[39;00m \u001b[38;5;21mcsp_schedule\u001b[39m(venues, time_slots, courses):\n\u001b[0;32m      4\u001b[0m     problem \u001b[38;5;241m=\u001b[39m Problem()\n",
      "\u001b[1;31mModuleNotFoundError\u001b[0m: No module named 'constraint'"
     ]
    },
    {
     "ename": "",
     "evalue": "",
     "output_type": "error",
     "traceback": [
      "\u001b[1;31mThe Kernel crashed while executing code in the current cell or a previous cell. \n",
      "\u001b[1;31mPlease review the code in the cell(s) to identify a possible cause of the failure. \n",
      "\u001b[1;31mClick <a href='https://aka.ms/vscodeJupyterKernelCrash'>here</a> for more info. \n",
      "\u001b[1;31mView Jupyter <a href='command:jupyter.viewOutput'>log</a> for further details."
     ]
    }
   ],
   "source": [
    "from csp_module import csp_schedule\n",
    "from ml_module import train_ml_model\n",
    "from ga_module import ga_schedule\n"
   ]
  },
  {
   "cell_type": "code",
   "execution_count": 4,
   "metadata": {},
   "outputs": [],
   "source": [
    "venues = [\n",
    "    {\"id\": 1, \"name\": \"Auditorium\", \"capacity\": 300},\n",
    "    {\"id\": 2, \"name\": \"Lecture Hall A\", \"capacity\": 100},\n",
    "]\n",
    "time_slots = [\"Monday 08:00-10:00\", \"Monday 10:00-12:00\"]\n",
    "courses = [\n",
    "    {\"id\": 1, \"name\": \"Math 101\", \"students\": 80},\n",
    "    {\"id\": 2, \"name\": \"Physics 101\", \"students\": 50},\n",
    "]"
   ]
  }
 ],
 "metadata": {
  "kernelspec": {
   "display_name": "Python 3",
   "language": "python",
   "name": "python3"
  },
  "language_info": {
   "codemirror_mode": {
    "name": "ipython",
    "version": 3
   },
   "file_extension": ".py",
   "mimetype": "text/x-python",
   "name": "python",
   "nbconvert_exporter": "python",
   "pygments_lexer": "ipython3",
   "version": "3.12.8"
  }
 },
 "nbformat": 4,
 "nbformat_minor": 2
}
